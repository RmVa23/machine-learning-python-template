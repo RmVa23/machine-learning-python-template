{
    "cells": [
        {
            "cell_type": "markdown",
            "metadata": {},
            "source": [
                "# Explore here"
            ]
        },
        {
            "cell_type": "code",
            "execution_count": 12,
            "metadata": {},
            "outputs": [
                {
                    "name": "stdout",
                    "output_type": "stream",
                    "text": [
                        "     id                                              name  host_id  \\\n",
                        "0  2539                Clean & quiet apt home by the park     2787   \n",
                        "1  2595                             Skylit Midtown Castle     2845   \n",
                        "2  3647               THE VILLAGE OF HARLEM....NEW YORK !     4632   \n",
                        "3  3831                   Cozy Entire Floor of Brownstone     4869   \n",
                        "4  5022  Entire Apt: Spacious Studio/Loft by central park     7192   \n",
                        "\n",
                        "     host_name neighbourhood_group neighbourhood  latitude  longitude  \\\n",
                        "0         John            Brooklyn    Kensington  40.64749  -73.97237   \n",
                        "1     Jennifer           Manhattan       Midtown  40.75362  -73.98377   \n",
                        "2    Elisabeth           Manhattan        Harlem  40.80902  -73.94190   \n",
                        "3  LisaRoxanne            Brooklyn  Clinton Hill  40.68514  -73.95976   \n",
                        "4        Laura           Manhattan   East Harlem  40.79851  -73.94399   \n",
                        "\n",
                        "         room_type  price  minimum_nights  number_of_reviews last_review  \\\n",
                        "0     Private room    149               1                  9  2018-10-19   \n",
                        "1  Entire home/apt    225               1                 45  2019-05-21   \n",
                        "2     Private room    150               3                  0        None   \n",
                        "3  Entire home/apt     89               1                270  2019-07-05   \n",
                        "4  Entire home/apt     80              10                  9  2018-11-19   \n",
                        "\n",
                        "   reviews_per_month  calculated_host_listings_count  availability_365  \n",
                        "0               0.21                               6               365  \n",
                        "1               0.38                               2               355  \n",
                        "2                NaN                               1               365  \n",
                        "3               4.64                               1               194  \n",
                        "4               0.10                               1                 0  \n"
                    ]
                }
            ],
            "source": [
                "from utils import db_connect\n",
                "import pandas as pd\n",
                "import matplotlib.pyplot as plt\n",
                "\n",
                "# Establecer la conexión a la base de datos\n",
                "engine = db_connect()\n",
                "\n",
                "# Verificar si la conexión es exitosa\n",
                "#if engine:\n",
                "    #print(\"Conexión exitosa\")\n",
                "\n",
                "# Consultar la tabla en la base de datos y crear un DataFrame\n",
                "data = pd.read_sql_table('2019-ABNB', engine)\n",
                "\n",
                "pd.set_option('display.max_columns', None)  # muestra todas las columnas del dataframe\n",
                "print(data.head())\n",
                "\n"
            ]
        },
        {
            "cell_type": "code",
            "execution_count": 4,
            "metadata": {},
            "outputs": [
                {
                    "name": "stdout",
                    "output_type": "stream",
                    "text": [
                        "(48895, 16)\n",
                        "<class 'pandas.core.frame.DataFrame'>\n",
                        "RangeIndex: 48895 entries, 0 to 48894\n",
                        "Data columns (total 16 columns):\n",
                        " #   Column                          Non-Null Count  Dtype  \n",
                        "---  ------                          --------------  -----  \n",
                        " 0   id                              48895 non-null  int64  \n",
                        " 1   name                            48879 non-null  object \n",
                        " 2   host_id                         48895 non-null  int64  \n",
                        " 3   host_name                       48874 non-null  object \n",
                        " 4   neighbourhood_group             48895 non-null  object \n",
                        " 5   neighbourhood                   48895 non-null  object \n",
                        " 6   latitude                        48895 non-null  float64\n",
                        " 7   longitude                       48895 non-null  float64\n",
                        " 8   room_type                       48895 non-null  object \n",
                        " 9   price                           48895 non-null  int64  \n",
                        " 10  minimum_nights                  48895 non-null  int64  \n",
                        " 11  number_of_reviews               48895 non-null  int64  \n",
                        " 12  last_review                     38843 non-null  object \n",
                        " 13  reviews_per_month               38843 non-null  float64\n",
                        " 14  calculated_host_listings_count  48895 non-null  int64  \n",
                        " 15  availability_365                48895 non-null  int64  \n",
                        "dtypes: float64(3), int64(7), object(6)\n",
                        "memory usage: 6.0+ MB\n",
                        "None\n"
                    ]
                }
            ],
            "source": [
                "# Mostrar informacion sobre el dataframe\n",
                "print(data.shape)\n",
                "print(data.info())"
            ]
        },
        {
            "cell_type": "code",
            "execution_count": 6,
            "metadata": {},
            "outputs": [
                {
                    "name": "stdout",
                    "output_type": "stream",
                    "text": [
                        "id                                48895\n",
                        "name                              47905\n",
                        "host_id                           37457\n",
                        "host_name                         11452\n",
                        "neighbourhood_group                   5\n",
                        "neighbourhood                       221\n",
                        "latitude                          19048\n",
                        "longitude                         14718\n",
                        "room_type                             3\n",
                        "price                               674\n",
                        "minimum_nights                      109\n",
                        "number_of_reviews                   394\n",
                        "last_review                        1764\n",
                        "reviews_per_month                   937\n",
                        "calculated_host_listings_count       47\n",
                        "availability_365                    366\n",
                        "dtype: int64\n"
                    ]
                }
            ],
            "source": [
                "print(data.nunique())"
            ]
        },
        {
            "cell_type": "code",
            "execution_count": 13,
            "metadata": {},
            "outputs": [
                {
                    "name": "stdout",
                    "output_type": "stream",
                    "text": [
                        "0\n",
                        "                                  count          mean           std  \\\n",
                        "id                              48895.0  1.901714e+07  1.098311e+07   \n",
                        "host_id                         48895.0  6.762001e+07  7.861097e+07   \n",
                        "latitude                        48895.0  4.072895e+01  5.453008e-02   \n",
                        "longitude                       48895.0 -7.395217e+01  4.615674e-02   \n",
                        "price                           48895.0  1.527207e+02  2.401542e+02   \n",
                        "minimum_nights                  48895.0  7.029962e+00  2.051055e+01   \n",
                        "number_of_reviews               48895.0  2.327447e+01  4.455058e+01   \n",
                        "reviews_per_month               38843.0  1.373221e+00  1.680442e+00   \n",
                        "calculated_host_listings_count  48895.0  7.143982e+00  3.295252e+01   \n",
                        "availability_365                48895.0  1.127813e+02  1.316223e+02   \n",
                        "\n",
                        "                                       min           25%           50%  \\\n",
                        "id                              2539.00000  9.471945e+06  1.967728e+07   \n",
                        "host_id                         2438.00000  7.822033e+06  3.079382e+07   \n",
                        "latitude                          40.49979  4.069010e+01  4.072307e+01   \n",
                        "longitude                        -74.24442 -7.398307e+01 -7.395568e+01   \n",
                        "price                              0.00000  6.900000e+01  1.060000e+02   \n",
                        "minimum_nights                     1.00000  1.000000e+00  3.000000e+00   \n",
                        "number_of_reviews                  0.00000  1.000000e+00  5.000000e+00   \n",
                        "reviews_per_month                  0.01000  1.900000e-01  7.200000e-01   \n",
                        "calculated_host_listings_count     1.00000  1.000000e+00  1.000000e+00   \n",
                        "availability_365                   0.00000  0.000000e+00  4.500000e+01   \n",
                        "\n",
                        "                                         75%           max  \n",
                        "id                              2.915218e+07  3.648724e+07  \n",
                        "host_id                         1.074344e+08  2.743213e+08  \n",
                        "latitude                        4.076311e+01  4.091306e+01  \n",
                        "longitude                      -7.393627e+01 -7.371299e+01  \n",
                        "price                           1.750000e+02  1.000000e+04  \n",
                        "minimum_nights                  5.000000e+00  1.250000e+03  \n",
                        "number_of_reviews               2.400000e+01  6.290000e+02  \n",
                        "reviews_per_month               2.020000e+00  5.850000e+01  \n",
                        "calculated_host_listings_count  2.000000e+00  3.270000e+02  \n",
                        "availability_365                2.270000e+02  3.650000e+02  \n"
                    ]
                }
            ],
            "source": [
                "print(data.duplicated().sum())\n",
                "print(data.describe().T)"
            ]
        },
        {
            "cell_type": "code",
            "execution_count": 16,
            "metadata": {},
            "outputs": [
                {
                    "data": {
                        "image/png": "[encoded data removed]",
                        "text/plain": [
                            "<Figure size 1000x500 with 2 Axes>"
                        ]
                    },
                    "metadata": {},
                    "output_type": "display_data"
                }
            ],
            "source": [
                "fig, ax = plt.subplots(1, 2, figsize=(10, 5))\n",
                "\n",
                "ax[0].hist(data['price'], bins=30, color='blue')\n",
                "ax[0].set_title(\"Histrograma Precios\")\n",
                "ax[0].set_xlabel('Precio')\n",
                "ax[0].set_ylabel('Frecuencia')\n",
                "\n",
                "ax[1].boxplot(data['price'], vert=False)\n",
                "ax[1].set_title(\"Boxplot Precio\")\n",
                "ax[1].set_xlabel(\"Precio\")\n",
                "\n",
                "plt.tight_layout()\n",
                "plt.show()"
            ]
        }
    ],
    "metadata": {
        "kernelspec": {
            "display_name": "Python 3.8.13 64-bit ('3.8.13')",
            "language": "python",
            "name": "python3"
        },
        "language_info": {
            "codemirror_mode": {
                "name": "ipython",
                "version": 3
            },
            "file_extension": ".py",
            "mimetype": "text/x-python",
            "name": "python",
            "nbconvert_exporter": "python",
            "pygments_lexer": "ipython3",
            "version": "3.10.12"
        },
        "orig_nbformat": 4,
        "vscode": {
            "interpreter": {
                "hash": "110cc1dee26208153f2972f08a2ad52b6a56238dc66d48e87fb757ef2996db56"
            }
        }
    },
    "nbformat": 4,
    "nbformat_minor": 2
}
